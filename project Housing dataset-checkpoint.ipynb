{
 "cells": [
  {
   "cell_type": "markdown",
   "metadata": {},
   "source": []
  },
  {
   "cell_type": "code",
   "execution_count": 57,
   "metadata": {},
   "outputs": [],
   "source": [
    "\n",
    "\n",
    "#import the required library\n",
    "import numpy as np\n",
    "import pandas as pd\n",
    "import matplotlib.pyplot as plt\n",
    "import seaborn as sns\n",
    "%matplotlib inline"
   ]
  },
  {
   "cell_type": "code",
   "execution_count": 58,
   "metadata": {},
   "outputs": [],
   "source": [
    "#now load the data . We will load housing data \n",
    "\"\"\" \n",
    "CRIM - per capita crime rate by town\n",
    "\n",
    "ZN - proportion of residential land zoned for lots over 25,000 sq.ft.\n",
    "\n",
    "INDUS - proportion of non-retail business acres per town.\n",
    "\n",
    "CHAS - Charles River dummy variable (1 if tract bounds river; 0 otherwise)\n",
    "\n",
    "NOX - nitric oxides concentration (parts per 10 million)\n",
    "\n",
    "RM - average number of rooms per dwelling\n",
    "\n",
    "AGE - proportion of owner-occupied units built prior to 1940\n",
    "\n",
    "DIS - weighted distances to five Boston employment centres\n",
    "\n",
    "RAD - index of accessibility to radial highways\n",
    "\n",
    "TAX - full-value property-tax rate per $10,000\n",
    "\n",
    "PTRATIO - pupil-teacher ratio by town\n",
    "\n",
    "B - 1000(Bk - 0.63)^2 where Bk is the proportion of blacks by town\n",
    "\n",
    "LSTAT - % lower status of the population\n",
    "\n",
    "MEDV - Median value of owner-occupied homes in $1000's\n",
    "\"\"\"\n",
    "\n",
    "df = pd.read_csv(r\"C:\\Users\\dell\\Downloads\\Housingdata.csv\")\n"
   ]
  },
  {
   "cell_type": "code",
   "execution_count": 59,
   "metadata": {},
   "outputs": [
    {
     "data": {
      "text/html": [
       "<div>\n",
       "<style scoped>\n",
       "    .dataframe tbody tr th:only-of-type {\n",
       "        vertical-align: middle;\n",
       "    }\n",
       "\n",
       "    .dataframe tbody tr th {\n",
       "        vertical-align: top;\n",
       "    }\n",
       "\n",
       "    .dataframe thead th {\n",
       "        text-align: right;\n",
       "    }\n",
       "</style>\n",
       "<table border=\"1\" class=\"dataframe\">\n",
       "  <thead>\n",
       "    <tr style=\"text-align: right;\">\n",
       "      <th></th>\n",
       "      <th>CRIM</th>\n",
       "      <th>ZN</th>\n",
       "      <th>INDUS</th>\n",
       "      <th>CHAS</th>\n",
       "      <th>NOX</th>\n",
       "      <th>RM</th>\n",
       "      <th>AGE</th>\n",
       "      <th>DIS</th>\n",
       "      <th>RAD</th>\n",
       "      <th>TAX</th>\n",
       "      <th>PTRATIO</th>\n",
       "      <th>B</th>\n",
       "      <th>LSTAT</th>\n",
       "      <th>MEDV</th>\n",
       "    </tr>\n",
       "  </thead>\n",
       "  <tbody>\n",
       "    <tr>\n",
       "      <td>0</td>\n",
       "      <td>0.00632</td>\n",
       "      <td>18.0</td>\n",
       "      <td>2.31</td>\n",
       "      <td>0.0</td>\n",
       "      <td>0.538</td>\n",
       "      <td>6.575</td>\n",
       "      <td>65.2</td>\n",
       "      <td>4.0900</td>\n",
       "      <td>1</td>\n",
       "      <td>296</td>\n",
       "      <td>15.3</td>\n",
       "      <td>396.90</td>\n",
       "      <td>4.98</td>\n",
       "      <td>24.0</td>\n",
       "    </tr>\n",
       "    <tr>\n",
       "      <td>1</td>\n",
       "      <td>0.02731</td>\n",
       "      <td>0.0</td>\n",
       "      <td>7.07</td>\n",
       "      <td>0.0</td>\n",
       "      <td>0.469</td>\n",
       "      <td>6.421</td>\n",
       "      <td>78.9</td>\n",
       "      <td>4.9671</td>\n",
       "      <td>2</td>\n",
       "      <td>242</td>\n",
       "      <td>17.8</td>\n",
       "      <td>396.90</td>\n",
       "      <td>9.14</td>\n",
       "      <td>21.6</td>\n",
       "    </tr>\n",
       "    <tr>\n",
       "      <td>2</td>\n",
       "      <td>0.02729</td>\n",
       "      <td>0.0</td>\n",
       "      <td>7.07</td>\n",
       "      <td>0.0</td>\n",
       "      <td>0.469</td>\n",
       "      <td>7.185</td>\n",
       "      <td>61.1</td>\n",
       "      <td>4.9671</td>\n",
       "      <td>2</td>\n",
       "      <td>242</td>\n",
       "      <td>17.8</td>\n",
       "      <td>392.83</td>\n",
       "      <td>4.03</td>\n",
       "      <td>34.7</td>\n",
       "    </tr>\n",
       "    <tr>\n",
       "      <td>3</td>\n",
       "      <td>0.03237</td>\n",
       "      <td>0.0</td>\n",
       "      <td>2.18</td>\n",
       "      <td>0.0</td>\n",
       "      <td>0.458</td>\n",
       "      <td>6.998</td>\n",
       "      <td>45.8</td>\n",
       "      <td>6.0622</td>\n",
       "      <td>3</td>\n",
       "      <td>222</td>\n",
       "      <td>18.7</td>\n",
       "      <td>394.63</td>\n",
       "      <td>2.94</td>\n",
       "      <td>33.4</td>\n",
       "    </tr>\n",
       "    <tr>\n",
       "      <td>4</td>\n",
       "      <td>0.06905</td>\n",
       "      <td>0.0</td>\n",
       "      <td>2.18</td>\n",
       "      <td>0.0</td>\n",
       "      <td>0.458</td>\n",
       "      <td>7.147</td>\n",
       "      <td>54.2</td>\n",
       "      <td>6.0622</td>\n",
       "      <td>3</td>\n",
       "      <td>222</td>\n",
       "      <td>18.7</td>\n",
       "      <td>396.90</td>\n",
       "      <td>NaN</td>\n",
       "      <td>36.2</td>\n",
       "    </tr>\n",
       "  </tbody>\n",
       "</table>\n",
       "</div>"
      ],
      "text/plain": [
       "      CRIM    ZN  INDUS  CHAS    NOX     RM   AGE     DIS  RAD  TAX  PTRATIO  \\\n",
       "0  0.00632  18.0   2.31   0.0  0.538  6.575  65.2  4.0900    1  296     15.3   \n",
       "1  0.02731   0.0   7.07   0.0  0.469  6.421  78.9  4.9671    2  242     17.8   \n",
       "2  0.02729   0.0   7.07   0.0  0.469  7.185  61.1  4.9671    2  242     17.8   \n",
       "3  0.03237   0.0   2.18   0.0  0.458  6.998  45.8  6.0622    3  222     18.7   \n",
       "4  0.06905   0.0   2.18   0.0  0.458  7.147  54.2  6.0622    3  222     18.7   \n",
       "\n",
       "        B  LSTAT  MEDV  \n",
       "0  396.90   4.98  24.0  \n",
       "1  396.90   9.14  21.6  \n",
       "2  392.83   4.03  34.7  \n",
       "3  394.63   2.94  33.4  \n",
       "4  396.90    NaN  36.2  "
      ]
     },
     "execution_count": 59,
     "metadata": {},
     "output_type": "execute_result"
    }
   ],
   "source": [
    "# first checking the head of the data \n",
    "df.head()\n"
   ]
  },
  {
   "cell_type": "code",
   "execution_count": 60,
   "metadata": {},
   "outputs": [
    {
     "name": "stdout",
     "output_type": "stream",
     "text": [
      "<class 'pandas.core.frame.DataFrame'>\n",
      "RangeIndex: 506 entries, 0 to 505\n",
      "Data columns (total 14 columns):\n",
      "CRIM       486 non-null float64\n",
      "ZN         486 non-null float64\n",
      "INDUS      486 non-null float64\n",
      "CHAS       486 non-null float64\n",
      "NOX        506 non-null float64\n",
      "RM         506 non-null float64\n",
      "AGE        486 non-null float64\n",
      "DIS        506 non-null float64\n",
      "RAD        506 non-null int64\n",
      "TAX        506 non-null int64\n",
      "PTRATIO    506 non-null float64\n",
      "B          506 non-null float64\n",
      "LSTAT      486 non-null float64\n",
      "MEDV       506 non-null float64\n",
      "dtypes: float64(12), int64(2)\n",
      "memory usage: 55.5 KB\n"
     ]
    }
   ],
   "source": [
    " # Now we will understand the data ie, how many rows and columns are there in the data by using info func or we can also use\n",
    "\n",
    "df.info()\n"
   ]
  },
  {
   "cell_type": "code",
   "execution_count": 61,
   "metadata": {},
   "outputs": [],
   "source": [
    "\"\"\"\n",
    "now our first goal is to understand which columns are \"Categorical\" and which are \"Continous\" .\n",
    "So we took a guess that if the unique values in a column is less than 100 , we will check the column for category.\n",
    "NOTE : here we can also check it by using describe func and include = \"all\" which we will use later \n",
    "\"\"\"\n",
    "# so here we made a function of this \n",
    "\n",
    "def unique(data):\n",
    "    for i in data.columns:\n",
    "        if(data[i].nunique()<100):\n",
    "            print (i,data[i].nunique())\n",
    "    "
   ]
  },
  {
   "cell_type": "code",
   "execution_count": 62,
   "metadata": {},
   "outputs": [
    {
     "name": "stdout",
     "output_type": "stream",
     "text": [
      "ZN 26\n",
      "INDUS 76\n",
      "CHAS 2\n",
      "NOX 81\n",
      "RAD 9\n",
      "TAX 66\n",
      "PTRATIO 46\n"
     ]
    }
   ],
   "source": [
    "unique(df)"
   ]
  },
  {
   "cell_type": "code",
   "execution_count": 63,
   "metadata": {},
   "outputs": [],
   "source": [
    "# from it we understand that CHAS and RAD  AND TAX"
   ]
  },
  {
   "cell_type": "code",
   "execution_count": null,
   "metadata": {},
   "outputs": [],
   "source": []
  },
  {
   "cell_type": "code",
   "execution_count": null,
   "metadata": {},
   "outputs": [],
   "source": []
  },
  {
   "cell_type": "markdown",
   "metadata": {},
   "source": [
    "# check missing value "
   ]
  },
  {
   "cell_type": "code",
   "execution_count": 64,
   "metadata": {},
   "outputs": [
    {
     "data": {
      "text/plain": [
       "CRIM       20\n",
       "ZN         20\n",
       "INDUS      20\n",
       "CHAS       20\n",
       "NOX         0\n",
       "RM          0\n",
       "AGE        20\n",
       "DIS         0\n",
       "RAD         0\n",
       "TAX         0\n",
       "PTRATIO     0\n",
       "B           0\n",
       "LSTAT      20\n",
       "MEDV        0\n",
       "dtype: int64"
      ]
     },
     "execution_count": 64,
     "metadata": {},
     "output_type": "execute_result"
    }
   ],
   "source": [
    "# now its time to check the missing values in the data frame\n",
    "\n",
    "\n",
    "df.isnull().sum()\n",
    "\n",
    "# here we got the numbers of missing values ie. their sum in each column\n",
    "\n",
    "#but to understand it more better we can use visualisation.So we are  using heat map to understand missing values in a better way \n"
   ]
  },
  {
   "cell_type": "code",
   "execution_count": 65,
   "metadata": {},
   "outputs": [
    {
     "data": {
      "text/plain": [
       "<matplotlib.axes._subplots.AxesSubplot at 0x17696130be0>"
      ]
     },
     "execution_count": 65,
     "metadata": {},
     "output_type": "execute_result"
    },
    {
     "data": {
      "image/png": "[encoded data removed]",
      "text/plain": [
       "<Figure size 864x432 with 2 Axes>"
      ]
     },
     "metadata": {
      "needs_background": "light"
     },
     "output_type": "display_data"
    }
   ],
   "source": [
    "plt.figure(figsize=(12,6))\n",
    "sns.heatmap(df.isnull() ,yticklabels = False,cmap = \"viridis\")\n",
    "\n",
    "# we can clearly see the null values present in the columns of the dataset.Now its time to impute those null values"
   ]
  },
  {
   "cell_type": "code",
   "execution_count": 66,
   "metadata": {},
   "outputs": [],
   "source": [
    "# now we will make a loop to check the percentage of null values in each column\n",
    "l=[]\n",
    "for i in df.columns:\n",
    "    l.append(df[i].isnull().sum()/len(df)*100)"
   ]
  },
  {
   "cell_type": "code",
   "execution_count": 67,
   "metadata": {},
   "outputs": [
    {
     "data": {
      "text/html": [
       "<div>\n",
       "<style scoped>\n",
       "    .dataframe tbody tr th:only-of-type {\n",
       "        vertical-align: middle;\n",
       "    }\n",
       "\n",
       "    .dataframe tbody tr th {\n",
       "        vertical-align: top;\n",
       "    }\n",
       "\n",
       "    .dataframe thead th {\n",
       "        text-align: right;\n",
       "    }\n",
       "</style>\n",
       "<table border=\"1\" class=\"dataframe\">\n",
       "  <thead>\n",
       "    <tr style=\"text-align: right;\">\n",
       "      <th></th>\n",
       "      <th>Columns</th>\n",
       "      <th>Missing value percentage</th>\n",
       "    </tr>\n",
       "  </thead>\n",
       "  <tbody>\n",
       "    <tr>\n",
       "      <td>0</td>\n",
       "      <td>CRIM</td>\n",
       "      <td>3.952569</td>\n",
       "    </tr>\n",
       "    <tr>\n",
       "      <td>1</td>\n",
       "      <td>ZN</td>\n",
       "      <td>3.952569</td>\n",
       "    </tr>\n",
       "    <tr>\n",
       "      <td>2</td>\n",
       "      <td>INDUS</td>\n",
       "      <td>3.952569</td>\n",
       "    </tr>\n",
       "    <tr>\n",
       "      <td>3</td>\n",
       "      <td>CHAS</td>\n",
       "      <td>3.952569</td>\n",
       "    </tr>\n",
       "    <tr>\n",
       "      <td>4</td>\n",
       "      <td>NOX</td>\n",
       "      <td>0.000000</td>\n",
       "    </tr>\n",
       "    <tr>\n",
       "      <td>5</td>\n",
       "      <td>RM</td>\n",
       "      <td>0.000000</td>\n",
       "    </tr>\n",
       "    <tr>\n",
       "      <td>6</td>\n",
       "      <td>AGE</td>\n",
       "      <td>3.952569</td>\n",
       "    </tr>\n",
       "    <tr>\n",
       "      <td>7</td>\n",
       "      <td>DIS</td>\n",
       "      <td>0.000000</td>\n",
       "    </tr>\n",
       "    <tr>\n",
       "      <td>8</td>\n",
       "      <td>RAD</td>\n",
       "      <td>0.000000</td>\n",
       "    </tr>\n",
       "    <tr>\n",
       "      <td>9</td>\n",
       "      <td>TAX</td>\n",
       "      <td>0.000000</td>\n",
       "    </tr>\n",
       "    <tr>\n",
       "      <td>10</td>\n",
       "      <td>PTRATIO</td>\n",
       "      <td>0.000000</td>\n",
       "    </tr>\n",
       "    <tr>\n",
       "      <td>11</td>\n",
       "      <td>B</td>\n",
       "      <td>0.000000</td>\n",
       "    </tr>\n",
       "    <tr>\n",
       "      <td>12</td>\n",
       "      <td>LSTAT</td>\n",
       "      <td>3.952569</td>\n",
       "    </tr>\n",
       "    <tr>\n",
       "      <td>13</td>\n",
       "      <td>MEDV</td>\n",
       "      <td>0.000000</td>\n",
       "    </tr>\n",
       "  </tbody>\n",
       "</table>\n",
       "</div>"
      ],
      "text/plain": [
       "    Columns  Missing value percentage\n",
       "0      CRIM                  3.952569\n",
       "1        ZN                  3.952569\n",
       "2     INDUS                  3.952569\n",
       "3      CHAS                  3.952569\n",
       "4       NOX                  0.000000\n",
       "5        RM                  0.000000\n",
       "6       AGE                  3.952569\n",
       "7       DIS                  0.000000\n",
       "8       RAD                  0.000000\n",
       "9       TAX                  0.000000\n",
       "10  PTRATIO                  0.000000\n",
       "11        B                  0.000000\n",
       "12    LSTAT                  3.952569\n",
       "13     MEDV                  0.000000"
      ]
     },
     "execution_count": 67,
     "metadata": {},
     "output_type": "execute_result"
    }
   ],
   "source": [
    "# now its time to make a dataset a provide missing value percentage in that dataset\n",
    "pd.DataFrame(data = {\"Columns\": ['CRIM', 'ZN', 'INDUS', 'CHAS', 'NOX', 'RM', 'AGE', 'DIS', 'RAD', 'TAX',\n",
    "       'PTRATIO', 'B', 'LSTAT', 'MEDV'],\"Missing value percentage\" : l})"
   ]
  },
  {
   "cell_type": "code",
   "execution_count": 68,
   "metadata": {},
   "outputs": [
    {
     "data": {
      "text/plain": [
       "'\\nfrom df1 we saw that in each column there is only 4 percent missing value present . 4 % is not a big percentage \\nas far as missing value is considered . so we will simply drop those missing values from the dataset \\n\\n'"
      ]
     },
     "execution_count": 68,
     "metadata": {},
     "output_type": "execute_result"
    }
   ],
   "source": [
    "\"\"\"\n",
    "from df1 we saw that in each column there is only 4 percent missing value present . 4 % is not a big percentage \n",
    "as far as missing value is considered . so we will simply drop those missing values from the dataset \n",
    "\n",
    "\"\"\"\n"
   ]
  },
  {
   "cell_type": "code",
   "execution_count": 69,
   "metadata": {},
   "outputs": [],
   "source": [
    "df1=df.dropna() #to permanently ammend the data we can use inplace func"
   ]
  },
  {
   "cell_type": "code",
   "execution_count": 70,
   "metadata": {},
   "outputs": [
    {
     "data": {
      "text/plain": [
       "CRIM       0\n",
       "ZN         0\n",
       "INDUS      0\n",
       "CHAS       0\n",
       "NOX        0\n",
       "RM         0\n",
       "AGE        0\n",
       "DIS        0\n",
       "RAD        0\n",
       "TAX        0\n",
       "PTRATIO    0\n",
       "B          0\n",
       "LSTAT      0\n",
       "MEDV       0\n",
       "dtype: int64"
      ]
     },
     "execution_count": 70,
     "metadata": {},
     "output_type": "execute_result"
    }
   ],
   "source": [
    "df1.isna().sum() # here we can see that no missing value is present in the new data set."
   ]
  },
  {
   "cell_type": "code",
   "execution_count": 71,
   "metadata": {},
   "outputs": [
    {
     "name": "stdout",
     "output_type": "stream",
     "text": [
      "506\n",
      "394\n"
     ]
    },
    {
     "data": {
      "text/plain": [
       "0.22134387351778656"
      ]
     },
     "execution_count": 71,
     "metadata": {},
     "output_type": "execute_result"
    }
   ],
   "source": [
    "print(len(df))\n",
    "print(len(df1))\n",
    "(506-394)/506\n",
    "# 22 PERCENT DATA REMOVED DUE TO SIMPLE DROP FUNC . SO WE HAVE TO IMPUTE MISSING VALUES .\n",
    "#FOR THAT WE CHECK THE COLUMNS WHICH ARE IMPORTANT FOR OUR DATA ."
   ]
  },
  {
   "cell_type": "code",
   "execution_count": 72,
   "metadata": {},
   "outputs": [],
   "source": [
    "# now its time to explore the decriptive statistics ie.mean std etc . so for that we use describe func"
   ]
  },
  {
   "cell_type": "code",
   "execution_count": 73,
   "metadata": {},
   "outputs": [
    {
     "data": {
      "text/html": [
       "<div>\n",
       "<style scoped>\n",
       "    .dataframe tbody tr th:only-of-type {\n",
       "        vertical-align: middle;\n",
       "    }\n",
       "\n",
       "    .dataframe tbody tr th {\n",
       "        vertical-align: top;\n",
       "    }\n",
       "\n",
       "    .dataframe thead th {\n",
       "        text-align: right;\n",
       "    }\n",
       "</style>\n",
       "<table border=\"1\" class=\"dataframe\">\n",
       "  <thead>\n",
       "    <tr style=\"text-align: right;\">\n",
       "      <th></th>\n",
       "      <th>CRIM</th>\n",
       "      <th>ZN</th>\n",
       "      <th>INDUS</th>\n",
       "      <th>CHAS</th>\n",
       "      <th>NOX</th>\n",
       "      <th>RM</th>\n",
       "      <th>AGE</th>\n",
       "      <th>DIS</th>\n",
       "      <th>RAD</th>\n",
       "      <th>TAX</th>\n",
       "      <th>PTRATIO</th>\n",
       "      <th>B</th>\n",
       "      <th>LSTAT</th>\n",
       "      <th>MEDV</th>\n",
       "    </tr>\n",
       "  </thead>\n",
       "  <tbody>\n",
       "    <tr>\n",
       "      <td>count</td>\n",
       "      <td>394.000000</td>\n",
       "      <td>394.000000</td>\n",
       "      <td>394.000000</td>\n",
       "      <td>394.000000</td>\n",
       "      <td>394.000000</td>\n",
       "      <td>394.000000</td>\n",
       "      <td>394.000000</td>\n",
       "      <td>394.000000</td>\n",
       "      <td>394.000000</td>\n",
       "      <td>394.000000</td>\n",
       "      <td>394.000000</td>\n",
       "      <td>394.000000</td>\n",
       "      <td>394.000000</td>\n",
       "      <td>394.000000</td>\n",
       "    </tr>\n",
       "    <tr>\n",
       "      <td>mean</td>\n",
       "      <td>3.690136</td>\n",
       "      <td>11.460660</td>\n",
       "      <td>11.000863</td>\n",
       "      <td>0.068528</td>\n",
       "      <td>0.553215</td>\n",
       "      <td>6.280015</td>\n",
       "      <td>68.932741</td>\n",
       "      <td>3.805268</td>\n",
       "      <td>9.403553</td>\n",
       "      <td>406.431472</td>\n",
       "      <td>18.537563</td>\n",
       "      <td>358.490939</td>\n",
       "      <td>12.769112</td>\n",
       "      <td>22.359645</td>\n",
       "    </tr>\n",
       "    <tr>\n",
       "      <td>std</td>\n",
       "      <td>9.202423</td>\n",
       "      <td>23.954082</td>\n",
       "      <td>6.908364</td>\n",
       "      <td>0.252971</td>\n",
       "      <td>0.113112</td>\n",
       "      <td>0.697985</td>\n",
       "      <td>27.888705</td>\n",
       "      <td>2.098571</td>\n",
       "      <td>8.633451</td>\n",
       "      <td>168.312419</td>\n",
       "      <td>2.166460</td>\n",
       "      <td>89.283295</td>\n",
       "      <td>7.308430</td>\n",
       "      <td>9.142979</td>\n",
       "    </tr>\n",
       "    <tr>\n",
       "      <td>min</td>\n",
       "      <td>0.006320</td>\n",
       "      <td>0.000000</td>\n",
       "      <td>0.460000</td>\n",
       "      <td>0.000000</td>\n",
       "      <td>0.389000</td>\n",
       "      <td>3.561000</td>\n",
       "      <td>2.900000</td>\n",
       "      <td>1.129600</td>\n",
       "      <td>1.000000</td>\n",
       "      <td>187.000000</td>\n",
       "      <td>12.600000</td>\n",
       "      <td>2.600000</td>\n",
       "      <td>1.730000</td>\n",
       "      <td>5.000000</td>\n",
       "    </tr>\n",
       "    <tr>\n",
       "      <td>25%</td>\n",
       "      <td>0.081955</td>\n",
       "      <td>0.000000</td>\n",
       "      <td>5.130000</td>\n",
       "      <td>0.000000</td>\n",
       "      <td>0.453000</td>\n",
       "      <td>5.879250</td>\n",
       "      <td>45.475000</td>\n",
       "      <td>2.110100</td>\n",
       "      <td>4.000000</td>\n",
       "      <td>280.250000</td>\n",
       "      <td>17.400000</td>\n",
       "      <td>376.707500</td>\n",
       "      <td>7.125000</td>\n",
       "      <td>16.800000</td>\n",
       "    </tr>\n",
       "    <tr>\n",
       "      <td>50%</td>\n",
       "      <td>0.268880</td>\n",
       "      <td>0.000000</td>\n",
       "      <td>8.560000</td>\n",
       "      <td>0.000000</td>\n",
       "      <td>0.538000</td>\n",
       "      <td>6.201500</td>\n",
       "      <td>77.700000</td>\n",
       "      <td>3.199200</td>\n",
       "      <td>5.000000</td>\n",
       "      <td>330.000000</td>\n",
       "      <td>19.100000</td>\n",
       "      <td>392.190000</td>\n",
       "      <td>11.300000</td>\n",
       "      <td>21.050000</td>\n",
       "    </tr>\n",
       "    <tr>\n",
       "      <td>75%</td>\n",
       "      <td>3.435973</td>\n",
       "      <td>12.500000</td>\n",
       "      <td>18.100000</td>\n",
       "      <td>0.000000</td>\n",
       "      <td>0.624000</td>\n",
       "      <td>6.605500</td>\n",
       "      <td>94.250000</td>\n",
       "      <td>5.116700</td>\n",
       "      <td>24.000000</td>\n",
       "      <td>666.000000</td>\n",
       "      <td>20.200000</td>\n",
       "      <td>396.900000</td>\n",
       "      <td>17.117500</td>\n",
       "      <td>25.000000</td>\n",
       "    </tr>\n",
       "    <tr>\n",
       "      <td>max</td>\n",
       "      <td>88.976200</td>\n",
       "      <td>100.000000</td>\n",
       "      <td>27.740000</td>\n",
       "      <td>1.000000</td>\n",
       "      <td>0.871000</td>\n",
       "      <td>8.780000</td>\n",
       "      <td>100.000000</td>\n",
       "      <td>12.126500</td>\n",
       "      <td>24.000000</td>\n",
       "      <td>711.000000</td>\n",
       "      <td>22.000000</td>\n",
       "      <td>396.900000</td>\n",
       "      <td>37.970000</td>\n",
       "      <td>50.000000</td>\n",
       "    </tr>\n",
       "  </tbody>\n",
       "</table>\n",
       "</div>"
      ],
      "text/plain": [
       "             CRIM          ZN       INDUS        CHAS         NOX          RM  \\\n",
       "count  394.000000  394.000000  394.000000  394.000000  394.000000  394.000000   \n",
       "mean     3.690136   11.460660   11.000863    0.068528    0.553215    6.280015   \n",
       "std      9.202423   23.954082    6.908364    0.252971    0.113112    0.697985   \n",
       "min      0.006320    0.000000    0.460000    0.000000    0.389000    3.561000   \n",
       "25%      0.081955    0.000000    5.130000    0.000000    0.453000    5.879250   \n",
       "50%      0.268880    0.000000    8.560000    0.000000    0.538000    6.201500   \n",
       "75%      3.435973   12.500000   18.100000    0.000000    0.624000    6.605500   \n",
       "max     88.976200  100.000000   27.740000    1.000000    0.871000    8.780000   \n",
       "\n",
       "              AGE         DIS         RAD         TAX     PTRATIO           B  \\\n",
       "count  394.000000  394.000000  394.000000  394.000000  394.000000  394.000000   \n",
       "mean    68.932741    3.805268    9.403553  406.431472   18.537563  358.490939   \n",
       "std     27.888705    2.098571    8.633451  168.312419    2.166460   89.283295   \n",
       "min      2.900000    1.129600    1.000000  187.000000   12.600000    2.600000   \n",
       "25%     45.475000    2.110100    4.000000  280.250000   17.400000  376.707500   \n",
       "50%     77.700000    3.199200    5.000000  330.000000   19.100000  392.190000   \n",
       "75%     94.250000    5.116700   24.000000  666.000000   20.200000  396.900000   \n",
       "max    100.000000   12.126500   24.000000  711.000000   22.000000  396.900000   \n",
       "\n",
       "            LSTAT        MEDV  \n",
       "count  394.000000  394.000000  \n",
       "mean    12.769112   22.359645  \n",
       "std      7.308430    9.142979  \n",
       "min      1.730000    5.000000  \n",
       "25%      7.125000   16.800000  \n",
       "50%     11.300000   21.050000  \n",
       "75%     17.117500   25.000000  \n",
       "max     37.970000   50.000000  "
      ]
     },
     "execution_count": 73,
     "metadata": {},
     "output_type": "execute_result"
    }
   ],
   "source": [
    "df1.describe(include = \"all\") \n",
    "# here we used include = all. but its not showing any \"top\" variable in statitiscs . it means there is no categorical column in this dataset\n"
   ]
  },
  {
   "cell_type": "code",
   "execution_count": 74,
   "metadata": {},
   "outputs": [
    {
     "data": {
      "text/plain": [
       "'\\nnow its time to understand this statistical table \\n\\nHere we can see the first row ie. count of each variable is same ie 394 .it means there is no null value present in the data set \\nthis make sense because we just dropped all the missing values from the data set . \\n\\n\\n'"
      ]
     },
     "execution_count": 74,
     "metadata": {},
     "output_type": "execute_result"
    }
   ],
   "source": [
    "\"\"\"\n",
    "now its time to understand this statistical table \n",
    "\n",
    "Here we can see the first row ie. count of each variable is same ie 394 .it means there is no null value present in the data set \n",
    "this make sense because we just dropped all the missing values from the data set . \n",
    "\n",
    "\n",
    "\"\"\""
   ]
  },
  {
   "cell_type": "markdown",
   "metadata": {},
   "source": [
    "# now its time to explore the probability distribution function"
   ]
  },
  {
   "cell_type": "code",
   "execution_count": 75,
   "metadata": {},
   "outputs": [
    {
     "data": {
      "text/plain": [
       "<matplotlib.axes._subplots.AxesSubplot at 0x176961d5fd0>"
      ]
     },
     "execution_count": 75,
     "metadata": {},
     "output_type": "execute_result"
    },
    {
     "data": {
      "image/png": "[encoded data removed]",
      "text/plain": [
       "<Figure size 864x432 with 1 Axes>"
      ]
     },
     "metadata": {
      "needs_background": "light"
     },
     "output_type": "display_data"
    }
   ],
   "source": [
    "# explore the pdf ie probabilty distribution func for that we will use seaborn\n",
    "plt.figure(figsize=(12,6))\n",
    "sns.distplot(df1[\"MEDV\"])\n",
    "#for optimal results we would be looking for normal distribuition and here it is. \n"
   ]
  },
  {
   "cell_type": "code",
   "execution_count": 76,
   "metadata": {},
   "outputs": [
    {
     "data": {
      "text/plain": [
       "'\\nhere we can see that dist plot is nearly a normal distribution . so we can ignore the outliers.\\nif the plot was not normal , then we have to deal with the outliers by using quantile func and change the \\ndescriptive statistical summary\\n'"
      ]
     },
     "execution_count": 76,
     "metadata": {},
     "output_type": "execute_result"
    }
   ],
   "source": [
    "\"\"\"\n",
    "here we can see that dist plot is nearly a normal distribution . so we can ignore the outliers.\n",
    "if the plot was not normal , then we have to deal with the outliers by using quantile func and change the \n",
    "descriptive statistical summary\n",
    "\"\"\"\n"
   ]
  },
  {
   "cell_type": "markdown",
   "metadata": {},
   "source": [
    "# now we will see the co relation between each variables "
   ]
  },
  {
   "cell_type": "code",
   "execution_count": 77,
   "metadata": {},
   "outputs": [
    {
     "data": {
      "text/plain": [
       "<matplotlib.axes._subplots.AxesSubplot at 0x1769623dbe0>"
      ]
     },
     "execution_count": 77,
     "metadata": {},
     "output_type": "execute_result"
    },
    {
     "data": {
      "image/png": "[encoded data removed]",
      "text/plain": [
       "<Figure size 1080x720 with 2 Axes>"
      ]
     },
     "metadata": {
      "needs_background": "light"
     },
     "output_type": "display_data"
    }
   ],
   "source": [
    "# obtaining the co relation by using heat map\n",
    "plt.figure(figsize = (15,10))\n",
    "sns.heatmap(df1.corr(),annot=True)\n",
    "\n"
   ]
  },
  {
   "cell_type": "code",
   "execution_count": 182,
   "metadata": {},
   "outputs": [
    {
     "data": {
      "text/html": [
       "<div>\n",
       "<style scoped>\n",
       "    .dataframe tbody tr th:only-of-type {\n",
       "        vertical-align: middle;\n",
       "    }\n",
       "\n",
       "    .dataframe tbody tr th {\n",
       "        vertical-align: top;\n",
       "    }\n",
       "\n",
       "    .dataframe thead th {\n",
       "        text-align: right;\n",
       "    }\n",
       "</style>\n",
       "<table border=\"1\" class=\"dataframe\">\n",
       "  <thead>\n",
       "    <tr style=\"text-align: right;\">\n",
       "      <th></th>\n",
       "      <th>CRIM</th>\n",
       "      <th>ZN</th>\n",
       "      <th>INDUS</th>\n",
       "      <th>CHAS</th>\n",
       "      <th>NOX</th>\n",
       "      <th>RM</th>\n",
       "      <th>AGE</th>\n",
       "      <th>DIS</th>\n",
       "      <th>RAD</th>\n",
       "      <th>TAX</th>\n",
       "      <th>PTRATIO</th>\n",
       "      <th>B</th>\n",
       "      <th>LSTAT</th>\n",
       "      <th>MEDV</th>\n",
       "    </tr>\n",
       "  </thead>\n",
       "  <tbody>\n",
       "    <tr>\n",
       "      <td>CRIM</td>\n",
       "      <td>1.000000</td>\n",
       "      <td>-0.188075</td>\n",
       "      <td>0.391552</td>\n",
       "      <td>-0.051970</td>\n",
       "      <td>0.416160</td>\n",
       "      <td>-0.227170</td>\n",
       "      <td>0.341311</td>\n",
       "      <td>-0.365052</td>\n",
       "      <td>0.608667</td>\n",
       "      <td>0.560841</td>\n",
       "      <td>0.265428</td>\n",
       "      <td>-0.386254</td>\n",
       "      <td>0.461906</td>\n",
       "      <td>-0.397230</td>\n",
       "    </tr>\n",
       "    <tr>\n",
       "      <td>ZN</td>\n",
       "      <td>-0.188075</td>\n",
       "      <td>1.000000</td>\n",
       "      <td>-0.521256</td>\n",
       "      <td>-0.033357</td>\n",
       "      <td>-0.515660</td>\n",
       "      <td>0.343210</td>\n",
       "      <td>-0.568174</td>\n",
       "      <td>0.645359</td>\n",
       "      <td>-0.298773</td>\n",
       "      <td>-0.305768</td>\n",
       "      <td>-0.422164</td>\n",
       "      <td>0.169894</td>\n",
       "      <td>-0.415041</td>\n",
       "      <td>0.406822</td>\n",
       "    </tr>\n",
       "    <tr>\n",
       "      <td>INDUS</td>\n",
       "      <td>0.391552</td>\n",
       "      <td>-0.521256</td>\n",
       "      <td>1.000000</td>\n",
       "      <td>0.049820</td>\n",
       "      <td>0.762737</td>\n",
       "      <td>-0.403068</td>\n",
       "      <td>0.642387</td>\n",
       "      <td>-0.696569</td>\n",
       "      <td>0.591944</td>\n",
       "      <td>0.734204</td>\n",
       "      <td>0.395691</td>\n",
       "      <td>-0.344788</td>\n",
       "      <td>0.598156</td>\n",
       "      <td>-0.510829</td>\n",
       "    </tr>\n",
       "    <tr>\n",
       "      <td>CHAS</td>\n",
       "      <td>-0.051970</td>\n",
       "      <td>-0.033357</td>\n",
       "      <td>0.049820</td>\n",
       "      <td>1.000000</td>\n",
       "      <td>0.076661</td>\n",
       "      <td>0.095308</td>\n",
       "      <td>0.072644</td>\n",
       "      <td>-0.095037</td>\n",
       "      <td>0.014102</td>\n",
       "      <td>-0.026513</td>\n",
       "      <td>-0.104995</td>\n",
       "      <td>0.068913</td>\n",
       "      <td>-0.037113</td>\n",
       "      <td>0.173701</td>\n",
       "    </tr>\n",
       "    <tr>\n",
       "      <td>NOX</td>\n",
       "      <td>0.416160</td>\n",
       "      <td>-0.515660</td>\n",
       "      <td>0.762737</td>\n",
       "      <td>0.076661</td>\n",
       "      <td>1.000000</td>\n",
       "      <td>-0.316563</td>\n",
       "      <td>0.732540</td>\n",
       "      <td>-0.768137</td>\n",
       "      <td>0.628170</td>\n",
       "      <td>0.679824</td>\n",
       "      <td>0.210216</td>\n",
       "      <td>-0.384257</td>\n",
       "      <td>0.593655</td>\n",
       "      <td>-0.459054</td>\n",
       "    </tr>\n",
       "    <tr>\n",
       "      <td>RM</td>\n",
       "      <td>-0.227170</td>\n",
       "      <td>0.343210</td>\n",
       "      <td>-0.403068</td>\n",
       "      <td>0.095308</td>\n",
       "      <td>-0.316563</td>\n",
       "      <td>1.000000</td>\n",
       "      <td>-0.248670</td>\n",
       "      <td>0.218713</td>\n",
       "      <td>-0.236057</td>\n",
       "      <td>-0.320561</td>\n",
       "      <td>-0.390686</td>\n",
       "      <td>0.123320</td>\n",
       "      <td>-0.636226</td>\n",
       "      <td>0.723951</td>\n",
       "    </tr>\n",
       "    <tr>\n",
       "      <td>AGE</td>\n",
       "      <td>0.341311</td>\n",
       "      <td>-0.568174</td>\n",
       "      <td>0.642387</td>\n",
       "      <td>0.072644</td>\n",
       "      <td>0.732540</td>\n",
       "      <td>-0.248670</td>\n",
       "      <td>1.000000</td>\n",
       "      <td>-0.753547</td>\n",
       "      <td>0.443585</td>\n",
       "      <td>0.504472</td>\n",
       "      <td>0.264968</td>\n",
       "      <td>-0.281990</td>\n",
       "      <td>0.601137</td>\n",
       "      <td>-0.407470</td>\n",
       "    </tr>\n",
       "    <tr>\n",
       "      <td>DIS</td>\n",
       "      <td>-0.365052</td>\n",
       "      <td>0.645359</td>\n",
       "      <td>-0.696569</td>\n",
       "      <td>-0.095037</td>\n",
       "      <td>-0.768137</td>\n",
       "      <td>0.218713</td>\n",
       "      <td>-0.753547</td>\n",
       "      <td>1.000000</td>\n",
       "      <td>-0.477075</td>\n",
       "      <td>-0.529603</td>\n",
       "      <td>-0.228840</td>\n",
       "      <td>0.285168</td>\n",
       "      <td>-0.505036</td>\n",
       "      <td>0.279547</td>\n",
       "    </tr>\n",
       "    <tr>\n",
       "      <td>RAD</td>\n",
       "      <td>0.608667</td>\n",
       "      <td>-0.298773</td>\n",
       "      <td>0.591944</td>\n",
       "      <td>0.014102</td>\n",
       "      <td>0.628170</td>\n",
       "      <td>-0.236057</td>\n",
       "      <td>0.443585</td>\n",
       "      <td>-0.477075</td>\n",
       "      <td>1.000000</td>\n",
       "      <td>0.900000</td>\n",
       "      <td>0.441949</td>\n",
       "      <td>-0.444135</td>\n",
       "      <td>0.510868</td>\n",
       "      <td>-0.416638</td>\n",
       "    </tr>\n",
       "    <tr>\n",
       "      <td>TAX</td>\n",
       "      <td>0.560841</td>\n",
       "      <td>-0.305768</td>\n",
       "      <td>0.734204</td>\n",
       "      <td>-0.026513</td>\n",
       "      <td>0.679824</td>\n",
       "      <td>-0.320561</td>\n",
       "      <td>0.504472</td>\n",
       "      <td>-0.529603</td>\n",
       "      <td>0.900000</td>\n",
       "      <td>1.000000</td>\n",
       "      <td>0.446961</td>\n",
       "      <td>-0.435457</td>\n",
       "      <td>0.572218</td>\n",
       "      <td>-0.508864</td>\n",
       "    </tr>\n",
       "    <tr>\n",
       "      <td>PTRATIO</td>\n",
       "      <td>0.265428</td>\n",
       "      <td>-0.422164</td>\n",
       "      <td>0.395691</td>\n",
       "      <td>-0.104995</td>\n",
       "      <td>0.210216</td>\n",
       "      <td>-0.390686</td>\n",
       "      <td>0.264968</td>\n",
       "      <td>-0.228840</td>\n",
       "      <td>0.441949</td>\n",
       "      <td>0.446961</td>\n",
       "      <td>1.000000</td>\n",
       "      <td>-0.179816</td>\n",
       "      <td>0.395006</td>\n",
       "      <td>-0.543809</td>\n",
       "    </tr>\n",
       "    <tr>\n",
       "      <td>B</td>\n",
       "      <td>-0.386254</td>\n",
       "      <td>0.169894</td>\n",
       "      <td>-0.344788</td>\n",
       "      <td>0.068913</td>\n",
       "      <td>-0.384257</td>\n",
       "      <td>0.123320</td>\n",
       "      <td>-0.281990</td>\n",
       "      <td>0.285168</td>\n",
       "      <td>-0.444135</td>\n",
       "      <td>-0.435457</td>\n",
       "      <td>-0.179816</td>\n",
       "      <td>1.000000</td>\n",
       "      <td>-0.383783</td>\n",
       "      <td>0.347256</td>\n",
       "    </tr>\n",
       "    <tr>\n",
       "      <td>LSTAT</td>\n",
       "      <td>0.461906</td>\n",
       "      <td>-0.415041</td>\n",
       "      <td>0.598156</td>\n",
       "      <td>-0.037113</td>\n",
       "      <td>0.593655</td>\n",
       "      <td>-0.636226</td>\n",
       "      <td>0.601137</td>\n",
       "      <td>-0.505036</td>\n",
       "      <td>0.510868</td>\n",
       "      <td>0.572218</td>\n",
       "      <td>0.395006</td>\n",
       "      <td>-0.383783</td>\n",
       "      <td>1.000000</td>\n",
       "      <td>-0.743450</td>\n",
       "    </tr>\n",
       "    <tr>\n",
       "      <td>MEDV</td>\n",
       "      <td>-0.397230</td>\n",
       "      <td>0.406822</td>\n",
       "      <td>-0.510829</td>\n",
       "      <td>0.173701</td>\n",
       "      <td>-0.459054</td>\n",
       "      <td>0.723951</td>\n",
       "      <td>-0.407470</td>\n",
       "      <td>0.279547</td>\n",
       "      <td>-0.416638</td>\n",
       "      <td>-0.508864</td>\n",
       "      <td>-0.543809</td>\n",
       "      <td>0.347256</td>\n",
       "      <td>-0.743450</td>\n",
       "      <td>1.000000</td>\n",
       "    </tr>\n",
       "  </tbody>\n",
       "</table>\n",
       "</div>"
      ],
      "text/plain": [
       "             CRIM        ZN     INDUS      CHAS       NOX        RM       AGE  \\\n",
       "CRIM     1.000000 -0.188075  0.391552 -0.051970  0.416160 -0.227170  0.341311   \n",
       "ZN      -0.188075  1.000000 -0.521256 -0.033357 -0.515660  0.343210 -0.568174   \n",
       "INDUS    0.391552 -0.521256  1.000000  0.049820  0.762737 -0.403068  0.642387   \n",
       "CHAS    -0.051970 -0.033357  0.049820  1.000000  0.076661  0.095308  0.072644   \n",
       "NOX      0.416160 -0.515660  0.762737  0.076661  1.000000 -0.316563  0.732540   \n",
       "RM      -0.227170  0.343210 -0.403068  0.095308 -0.316563  1.000000 -0.248670   \n",
       "AGE      0.341311 -0.568174  0.642387  0.072644  0.732540 -0.248670  1.000000   \n",
       "DIS     -0.365052  0.645359 -0.696569 -0.095037 -0.768137  0.218713 -0.753547   \n",
       "RAD      0.608667 -0.298773  0.591944  0.014102  0.628170 -0.236057  0.443585   \n",
       "TAX      0.560841 -0.305768  0.734204 -0.026513  0.679824 -0.320561  0.504472   \n",
       "PTRATIO  0.265428 -0.422164  0.395691 -0.104995  0.210216 -0.390686  0.264968   \n",
       "B       -0.386254  0.169894 -0.344788  0.068913 -0.384257  0.123320 -0.281990   \n",
       "LSTAT    0.461906 -0.415041  0.598156 -0.037113  0.593655 -0.636226  0.601137   \n",
       "MEDV    -0.397230  0.406822 -0.510829  0.173701 -0.459054  0.723951 -0.407470   \n",
       "\n",
       "              DIS       RAD       TAX   PTRATIO         B     LSTAT      MEDV  \n",
       "CRIM    -0.365052  0.608667  0.560841  0.265428 -0.386254  0.461906 -0.397230  \n",
       "ZN       0.645359 -0.298773 -0.305768 -0.422164  0.169894 -0.415041  0.406822  \n",
       "INDUS   -0.696569  0.591944  0.734204  0.395691 -0.344788  0.598156 -0.510829  \n",
       "CHAS    -0.095037  0.014102 -0.026513 -0.104995  0.068913 -0.037113  0.173701  \n",
       "NOX     -0.768137  0.628170  0.679824  0.210216 -0.384257  0.593655 -0.459054  \n",
       "RM       0.218713 -0.236057 -0.320561 -0.390686  0.123320 -0.636226  0.723951  \n",
       "AGE     -0.753547  0.443585  0.504472  0.264968 -0.281990  0.601137 -0.407470  \n",
       "DIS      1.000000 -0.477075 -0.529603 -0.228840  0.285168 -0.505036  0.279547  \n",
       "RAD     -0.477075  1.000000  0.900000  0.441949 -0.444135  0.510868 -0.416638  \n",
       "TAX     -0.529603  0.900000  1.000000  0.446961 -0.435457  0.572218 -0.508864  \n",
       "PTRATIO -0.228840  0.441949  0.446961  1.000000 -0.179816  0.395006 -0.543809  \n",
       "B        0.285168 -0.444135 -0.435457 -0.179816  1.000000 -0.383783  0.347256  \n",
       "LSTAT   -0.505036  0.510868  0.572218  0.395006 -0.383783  1.000000 -0.743450  \n",
       "MEDV     0.279547 -0.416638 -0.508864 -0.543809  0.347256 -0.743450  1.000000  "
      ]
     },
     "execution_count": 182,
     "metadata": {},
     "output_type": "execute_result"
    }
   ],
   "source": [
    "df1.corr()"
   ]
  },
  {
   "cell_type": "code",
   "execution_count": 183,
   "metadata": {},
   "outputs": [
    {
     "data": {
      "text/plain": [
       "<matplotlib.axes._subplots.AxesSubplot at 0x1769a062be0>"
      ]
     },
     "execution_count": 183,
     "metadata": {},
     "output_type": "execute_result"
    },
    {
     "data": {
      "image/png": "[encoded data removed]",
      "text/plain": [
       "<Figure size 1080x720 with 2 Axes>"
      ]
     },
     "metadata": {
      "needs_background": "light"
     },
     "output_type": "display_data"
    }
   ],
   "source": [
    "#lets create a heatmap for those variables which are more related to the target varibles\n",
    "plt.figure(figsize = (15,10))\n",
    "sns.heatmap(df1.corr()>0.5,cmap=\"BuPu\")\n"
   ]
  },
  {
   "cell_type": "code",
   "execution_count": 78,
   "metadata": {},
   "outputs": [
    {
     "data": {
      "text/plain": [
       "'\\nhere from the corelation plot we can clearly see the varibles which are related to the target variable \\n\\nLSTAT , RM are most related to the MEDV variable .so later we can use these two variables as feature varible  to develop our model \\n\\nwe can also se the relation between INDUS and NOX  .so we can say that it is better to buy house father from industrial area. \\n'"
      ]
     },
     "execution_count": 78,
     "metadata": {},
     "output_type": "execute_result"
    }
   ],
   "source": [
    "\"\"\"\n",
    "here from the corelation plot we can clearly see the varibles which are related to the target variable \n",
    "\n",
    "LSTAT , RM are most related to the MEDV variable .so later we can use these two variables as feature varible  to develop our model \n",
    "\n",
    "we can also se the relation between INDUS and NOX  .so we can say that it is better to buy house father from industrial area. \n",
    "\"\"\""
   ]
  },
  {
   "cell_type": "markdown",
   "metadata": {},
   "source": [
    "# lets check the relationship of there 2 variable with target varible"
   ]
  },
  {
   "cell_type": "code",
   "execution_count": 79,
   "metadata": {},
   "outputs": [
    {
     "data": {
      "text/plain": [
       "<seaborn.axisgrid.FacetGrid at 0x17696968cf8>"
      ]
     },
     "execution_count": 79,
     "metadata": {},
     "output_type": "execute_result"
    },
    {
     "data": {
      "image/png": "[encoded data removed]",
      "text/plain": [
       "<Figure size 360x360 with 1 Axes>"
      ]
     },
     "metadata": {
      "needs_background": "light"
     },
     "output_type": "display_data"
    },
    {
     "data": {
      "image/png": "[encoded data removed]",
      "text/plain": [
       "<Figure size 360x360 with 1 Axes>"
      ]
     },
     "metadata": {
      "needs_background": "light"
     },
     "output_type": "display_data"
    }
   ],
   "source": [
    "sns.lmplot(x=\"RM\",y=\"MEDV\",data=df1)\n",
    "sns.lmplot(x=\"LSTAT\",y=\"MEDV\",data=df1)\n",
    "\n"
   ]
  },
  {
   "cell_type": "code",
   "execution_count": 80,
   "metadata": {},
   "outputs": [],
   "source": [
    "# from the above lm plot we can clearly see that linear regression line is perfect "
   ]
  },
  {
   "cell_type": "code",
   "execution_count": 81,
   "metadata": {},
   "outputs": [
    {
     "data": {
      "text/plain": [
       "'\"\\nwe can also plot a joint plot between feature and target , this would be a shortcut in place of lmplot and distplot.\\nfrom this joint plot we can clearly see the probability distribution func of features and target varible is normal distribution \\nalso the regression line fits well on the scatter plot.\\n'"
      ]
     },
     "execution_count": 81,
     "metadata": {},
     "output_type": "execute_result"
    }
   ],
   "source": [
    "\"\"\"\"\n",
    "we can also plot a joint plot between feature and target , this would be a shortcut in place of lmplot and distplot.\n",
    "from this joint plot we can clearly see the probability distribution func of features and target varible is normal distribution \n",
    "also the regression line fits well on the scatter plot.\n",
    "\"\"\"\n"
   ]
  },
  {
   "cell_type": "code",
   "execution_count": 82,
   "metadata": {},
   "outputs": [
    {
     "data": {
      "text/plain": [
       "<seaborn.axisgrid.JointGrid at 0x176965a4b70>"
      ]
     },
     "execution_count": 82,
     "metadata": {},
     "output_type": "execute_result"
    },
    {
     "data": {
      "image/png": "[encoded data removed]",
      "text/plain": [
       "<Figure size 432x432 with 3 Axes>"
      ]
     },
     "metadata": {
      "needs_background": "light"
     },
     "output_type": "display_data"
    },
    {
     "data": {
      "image/png": "[encoded data removed]",
      "text/plain": [
       "<Figure size 432x432 with 3 Axes>"
      ]
     },
     "metadata": {
      "needs_background": "light"
     },
     "output_type": "display_data"
    }
   ],
   "source": [
    "sns.jointplot(x='RM',y='MEDV',data=df1,kind='reg')\n",
    "sns.jointplot(x='LSTAT',y='MEDV',data=df1,kind='reg')\n"
   ]
  },
  {
   "cell_type": "code",
   "execution_count": 83,
   "metadata": {},
   "outputs": [],
   "source": [
    "# WE CAN SEE THE STRAIGHT LINE . DATA CAPPED . WE REQUEST THE TEAM TO MODIFY THAT DATA"
   ]
  },
  {
   "cell_type": "code",
   "execution_count": 84,
   "metadata": {},
   "outputs": [],
   "source": [
    "# FIND THE OUTLAYER BY FUNC\n",
    "#  an outlier is a data point that differs significantly from other observations"
   ]
  },
  {
   "cell_type": "code",
   "execution_count": 85,
   "metadata": {},
   "outputs": [
    {
     "data": {
      "text/plain": [
       "<matplotlib.axes._subplots.AxesSubplot at 0x1769664a4a8>"
      ]
     },
     "execution_count": 85,
     "metadata": {},
     "output_type": "execute_result"
    },
    {
     "data": {
      "image/png": "[encoded data removed]",
      "text/plain": [
       "<Figure size 432x288 with 1 Axes>"
      ]
     },
     "metadata": {
      "needs_background": "light"
     },
     "output_type": "display_data"
    }
   ],
   "source": [
    "sns.boxplot(df1[\"LSTAT\"])\n"
   ]
  },
  {
   "cell_type": "code",
   "execution_count": 86,
   "metadata": {},
   "outputs": [
    {
     "data": {
      "text/plain": [
       "<matplotlib.axes._subplots.AxesSubplot at 0x17696b7a4a8>"
      ]
     },
     "execution_count": 86,
     "metadata": {},
     "output_type": "execute_result"
    },
    {
     "data": {
      "image/png": "[encoded data removed]",
      "text/plain": [
       "<Figure size 432x288 with 1 Axes>"
      ]
     },
     "metadata": {
      "needs_background": "light"
     },
     "output_type": "display_data"
    }
   ],
   "source": [
    "sns.boxplot(df1[\"RM\"])\n"
   ]
  },
  {
   "cell_type": "code",
   "execution_count": 87,
   "metadata": {},
   "outputs": [
    {
     "data": {
      "text/plain": [
       "<matplotlib.axes._subplots.AxesSubplot at 0x17696bb2b38>"
      ]
     },
     "execution_count": 87,
     "metadata": {},
     "output_type": "execute_result"
    },
    {
     "data": {
      "image/png": "[encoded data removed]",
      "text/plain": [
       "<Figure size 432x288 with 1 Axes>"
      ]
     },
     "metadata": {
      "needs_background": "light"
     },
     "output_type": "display_data"
    }
   ],
   "source": [
    "sns.boxplot(df1[\"MEDV\"])\n"
   ]
  },
  {
   "cell_type": "code",
   "execution_count": null,
   "metadata": {},
   "outputs": [],
   "source": []
  },
  {
   "cell_type": "code",
   "execution_count": null,
   "metadata": {},
   "outputs": [],
   "source": []
  },
  {
   "cell_type": "code",
   "execution_count": null,
   "metadata": {},
   "outputs": [],
   "source": []
  },
  {
   "cell_type": "code",
   "execution_count": 88,
   "metadata": {},
   "outputs": [],
   "source": [
    "# ok now it is clear that only two features have realation with the target variable .so its time to develop a model on linear regression algo"
   ]
  },
  {
   "cell_type": "code",
   "execution_count": 89,
   "metadata": {},
   "outputs": [
    {
     "data": {
      "text/plain": [
       "Index(['CRIM', 'ZN', 'INDUS', 'CHAS', 'NOX', 'RM', 'AGE', 'DIS', 'RAD', 'TAX',\n",
       "       'PTRATIO', 'B', 'LSTAT', 'MEDV'],\n",
       "      dtype='object')"
      ]
     },
     "execution_count": 89,
     "metadata": {},
     "output_type": "execute_result"
    }
   ],
   "source": [
    "df1.columns\n"
   ]
  },
  {
   "cell_type": "code",
   "execution_count": 131,
   "metadata": {},
   "outputs": [],
   "source": [
    "# first create a separate dataframe of  feature varibles and a target varible \n",
    "\n",
    "X = df1[[\"RM\",\"NOX\",\"LSTAT\"]]\n",
    "y = df1[\"MEDV\"]\n"
   ]
  },
  {
   "cell_type": "code",
   "execution_count": 132,
   "metadata": {},
   "outputs": [],
   "source": [
    "# now its time to split the data into training data and testing data ie. test train split\n",
    "\n",
    "# we to split the data we can use iloc func but we want to keep it as simple/clear as possible so we will simply use train_test_split func"
   ]
  },
  {
   "cell_type": "code",
   "execution_count": 133,
   "metadata": {},
   "outputs": [],
   "source": [
    "# import the required library \n",
    "from sklearn.model_selection import train_test_split\n",
    "X_train, X_test, y_train, y_test = train_test_split(  X, y, test_size=0.2, random_state=42)\n"
   ]
  },
  {
   "cell_type": "code",
   "execution_count": 134,
   "metadata": {},
   "outputs": [
    {
     "data": {
      "text/plain": [
       "LinearRegression(copy_X=True, fit_intercept=True, n_jobs=None, normalize=False)"
      ]
     },
     "execution_count": 134,
     "metadata": {},
     "output_type": "execute_result"
    }
   ],
   "source": [
    "\"\"\"\n",
    "we have completely split our data set.now its time to fit linear regression on the training data\n",
    "we can do this by traditional method ie. obtaining the cost func and then minimising that cost func \n",
    "but sk learn library can do this in a 2-3 lines . \n",
    "\"\"\"\n",
    "\n",
    "from sklearn.linear_model import LinearRegression\n",
    "lm = LinearRegression()\n",
    "lm.fit(X_train,y_train)"
   ]
  },
  {
   "cell_type": "code",
   "execution_count": 135,
   "metadata": {},
   "outputs": [
    {
     "data": {
      "text/plain": [
       "array([ 5.36609239, -7.23767259, -0.5317876 ])"
      ]
     },
     "execution_count": 135,
     "metadata": {},
     "output_type": "execute_result"
    }
   ],
   "source": [
    "# printing out the coefficient of the model \n",
    "lm.coef_\n"
   ]
  },
  {
   "cell_type": "markdown",
   "metadata": {},
   "source": [
    "# prediction "
   ]
  },
  {
   "cell_type": "code",
   "execution_count": 136,
   "metadata": {},
   "outputs": [],
   "source": [
    "# now we have fit our data its time to predict the test values\n",
    "predictions = lm.predict(X_test)"
   ]
  },
  {
   "cell_type": "code",
   "execution_count": 137,
   "metadata": {},
   "outputs": [
    {
     "data": {
      "text/plain": [
       "<matplotlib.collections.PathCollection at 0x17697d8e390>"
      ]
     },
     "execution_count": 137,
     "metadata": {},
     "output_type": "execute_result"
    },
    {
     "data": {
      "image/png": "[encoded data removed]",
      "text/plain": [
       "<Figure size 432x288 with 1 Axes>"
      ]
     },
     "metadata": {
      "needs_background": "light"
     },
     "output_type": "display_data"
    }
   ],
   "source": [
    "# now comparing our predicted value with test value using scatter plot \n",
    "plt.scatter(y_test,predictions)"
   ]
  },
  {
   "cell_type": "code",
   "execution_count": 138,
   "metadata": {},
   "outputs": [],
   "source": [
    "# now model evaluation \n",
    "from sklearn import metrics \n"
   ]
  },
  {
   "cell_type": "code",
   "execution_count": 139,
   "metadata": {},
   "outputs": [
    {
     "data": {
      "text/plain": [
       "6.198067111319"
      ]
     },
     "execution_count": 139,
     "metadata": {},
     "output_type": "execute_result"
    }
   ],
   "source": [
    "np.sqrt(metrics.mean_squared_error(y_test,predictions))"
   ]
  },
  {
   "cell_type": "code",
   "execution_count": 140,
   "metadata": {},
   "outputs": [
    {
     "data": {
      "text/plain": [
       "0.5445445873790857"
      ]
     },
     "execution_count": 140,
     "metadata": {},
     "output_type": "execute_result"
    }
   ],
   "source": [
    "metrics.r2_score(y_test,predictions)"
   ]
  },
  {
   "cell_type": "code",
   "execution_count": 100,
   "metadata": {},
   "outputs": [],
   "source": [
    "# now make the func to run the model its r score ,rmse "
   ]
  },
  {
   "cell_type": "code",
   "execution_count": 262,
   "metadata": {},
   "outputs": [],
   "source": [
    "# now make the func to run the model its r score ,rmse \n",
    "def lm():\n",
    "    X = df1[['CRIM', 'ZN', 'INDUS', 'CHAS', 'NOX', 'RM', 'AGE', 'DIS', 'RAD', 'TAX',\n",
    "       'PTRATIO', 'B', \"LSTAT\"]]\n",
    "    y = df1[\"MEDV\"]\n",
    "    X_train, X_test, y_train, y_test = train_test_split(  X, y, test_size=0.2, random_state=42)\n",
    "    lm = LinearRegression()\n",
    "    lm.fit(X_train,y_train)\n",
    "    predictions = lm.predict(X_test)\n",
    "    print(\"rmse is \",np.sqrt(metrics.mean_squared_error(y_test,predictions)))\n",
    "    print(\"r2 score is \",metrics.r2_score(y_test,predictions))\n",
    "#now it will be easier for us to change the feature variable and quickly test the result\n",
    "\n"
   ]
  },
  {
   "cell_type": "code",
   "execution_count": 263,
   "metadata": {},
   "outputs": [
    {
     "data": {
      "text/plain": [
       "Index(['CRIM', 'ZN', 'INDUS', 'CHAS', 'NOX', 'RM', 'AGE', 'DIS', 'RAD', 'TAX',\n",
       "       'PTRATIO', 'B', 'LSTAT', 'MEDV'],\n",
       "      dtype='object')"
      ]
     },
     "execution_count": 263,
     "metadata": {},
     "output_type": "execute_result"
    }
   ],
   "source": [
    "df1.columns"
   ]
  },
  {
   "cell_type": "code",
   "execution_count": 265,
   "metadata": {},
   "outputs": [
    {
     "name": "stdout",
     "output_type": "stream",
     "text": [
      "rmse is  5.608390826694497\n",
      "r2 score is  0.6270849941673179\n"
     ]
    }
   ],
   "source": [
    "lm()"
   ]
  },
  {
   "cell_type": "code",
   "execution_count": 266,
   "metadata": {},
   "outputs": [],
   "source": [
    "# as we can see that accuracy is not that good . so lets choose a different model and check the accuracy"
   ]
  },
  {
   "cell_type": "markdown",
   "metadata": {},
   "source": [
    "# Decision Tree "
   ]
  },
  {
   "cell_type": "code",
   "execution_count": 246,
   "metadata": {},
   "outputs": [],
   "source": [
    "from sklearn.tree import DecisionTreeRegressor\n",
    "\n",
    "d= DecisionTreeRegressor(max_depth=11)\n",
    "d.fit(X_train,y_train)\n",
    "d_pred = d.predict(X_train)\n"
   ]
  },
  {
   "cell_type": "code",
   "execution_count": 279,
   "metadata": {},
   "outputs": [],
   "source": [
    "def dt():\n",
    "     \n",
    "    X = df1[['CRIM', 'ZN', 'INDUS', 'CHAS', 'NOX', 'RM', 'AGE', 'DIS', 'RAD', 'TAX',\n",
    "       'PTRATIO', 'B', \"LSTAT\"]]\n",
    "    y = df1[\"MEDV\"]\n",
    "    d= DecisionTreeRegressor(max_depth=10)\n",
    "    d.fit(X_train,y_train)\n",
    "    d_pred = d.predict(X_train)\n",
    "    rmse = np.sqrt(metrics.mean_squared_error(y_train,d_pred))\n",
    "    r2 = metrics.r2_score(y_train,d_pred)\n",
    "    print(\"The model performance for training set\")\n",
    "    print(\"RMSE is\", rmse)\n",
    "    print(\"r2_score\", r2)\n",
    "    dt= d.predict(X_test)\n",
    "    rmse = np.sqrt(metrics.mean_squared_error(y_test,dt))\n",
    "    r2 = metrics.r2_score(y_test,dt)\n",
    "    print(\"The model performance for testing set\")\n",
    "    print(\"RMSE is\", rmse)\n",
    "    print(\"r2_score\", r2)"
   ]
  },
  {
   "cell_type": "code",
   "execution_count": 280,
   "metadata": {},
   "outputs": [
    {
     "name": "stdout",
     "output_type": "stream",
     "text": [
      "The model performance for training set\n",
      "RMSE is 0.7044447111354438\n",
      "r2_score 0.9939828100896336\n",
      "The model performance for testing set\n",
      "RMSE is 4.554720296939029\n",
      "r2_score 0.7540443839643688\n"
     ]
    }
   ],
   "source": [
    "dt()"
   ]
  },
  {
   "cell_type": "code",
   "execution_count": 272,
   "metadata": {},
   "outputs": [],
   "source": [
    "#it feels like decision tree is a better model for this dataset . lets check the random forest also"
   ]
  },
  {
   "cell_type": "markdown",
   "metadata": {},
   "source": [
    "# Random forest regressor"
   ]
  },
  {
   "cell_type": "code",
   "execution_count": 284,
   "metadata": {},
   "outputs": [],
   "source": [
    "from sklearn.ensemble import RandomForestRegressor\n"
   ]
  },
  {
   "cell_type": "code",
   "execution_count": 299,
   "metadata": {},
   "outputs": [],
   "source": [
    "def rf():\n",
    "    X = df1[['CRIM', 'ZN', 'INDUS', 'CHAS', 'NOX', 'RM', 'AGE', 'DIS', 'RAD', 'TAX',\n",
    "       'PTRATIO', 'B', \"LSTAT\"]]\n",
    "    y = df1[\"MEDV\"]\n",
    "    r= RandomForestRegressor()\n",
    "    r.fit(X_train,y_train)\n",
    "    pred = r.predict(X_train)\n",
    "    rmse = np.sqrt(metrics.mean_squared_error(y_train,pred))\n",
    "    r2 = metrics.r2_score(y_train,pred)\n",
    "    print(\"The model performance for training set\")\n",
    "    print(\"RMSE is\", rmse)\n",
    "    print(\"r2_score\", r2)\n",
    "    p = r.predict(X_test)\n",
    "    rmse = np.sqrt(metrics.mean_squared_error(y_test,p))\n",
    "    r2 = metrics.r2_score(y_test,p)\n",
    "    print(\"The model performance for testing set\")\n",
    "    print(\"RMSE is\", rmse)\n",
    "    print(\"r2_score\", r2)"
   ]
  },
  {
   "cell_type": "code",
   "execution_count": 300,
   "metadata": {},
   "outputs": [
    {
     "name": "stdout",
     "output_type": "stream",
     "text": [
      "The model performance for training set\n",
      "RMSE is 1.4615849192539163\n",
      "r2_score 0.9740971232293296\n",
      "The model performance for testing set\n",
      "RMSE is 5.212855336520827\n",
      "r2_score 0.6778303208678987\n"
     ]
    },
    {
     "name": "stderr",
     "output_type": "stream",
     "text": [
      "C:\\ProgramData\\Anaconda3\\lib\\site-packages\\sklearn\\ensemble\\forest.py:245: FutureWarning: The default value of n_estimators will change from 10 in version 0.20 to 100 in 0.22.\n",
      "  \"10 in version 0.20 to 100 in 0.22.\", FutureWarning)\n"
     ]
    }
   ],
   "source": [
    "rf()"
   ]
  },
  {
   "cell_type": "code",
   "execution_count": 301,
   "metadata": {},
   "outputs": [],
   "source": [
    "# so the best suited model for this dataset is decision tree . so we will use decision tree for this dataset"
   ]
  },
  {
   "cell_type": "code",
   "execution_count": null,
   "metadata": {},
   "outputs": [],
   "source": []
  },
  {
   "cell_type": "code",
   "execution_count": null,
   "metadata": {},
   "outputs": [],
   "source": []
  }
 ],
 "metadata": {
  "kernelspec": {
   "display_name": "Python 3",
   "language": "python",
   "name": "python3"
  },
  "language_info": {
   "codemirror_mode": {
    "name": "ipython",
    "version": 3
   },
   "file_extension": ".py",
   "mimetype": "text/x-python",
   "name": "python",
   "nbconvert_exporter": "python",
   "pygments_lexer": "ipython3",
   "version": "3.7.3"
  }
 },
 "nbformat": 4,
 "nbformat_minor": 2
}
